{
 "cells": [
  {
   "attachments": {},
   "cell_type": "markdown",
   "metadata": {},
   "source": [
    "# 画像の保存"
   ]
  },
  {
   "attachments": {},
   "cell_type": "markdown",
   "metadata": {},
   "source": [
    "以下の例を考えましょう．"
   ]
  },
  {
   "cell_type": "code",
   "execution_count": 1,
   "metadata": {},
   "outputs": [],
   "source": [
    "import pygmt"
   ]
  },
  {
   "cell_type": "code",
   "execution_count": 26,
   "metadata": {},
   "outputs": [],
   "source": [
    "fig = pygmt.Figure()\n",
    "\n",
    "fig.coast(\n",
    "    projection  = 'N138/12c',                         \n",
    "    region      = (128, 146, 30, 46),                 \n",
    "    shorelines  = 'default,black',                    \n",
    "    area_thresh = 100,                                \n",
    "    resolution  = 'f',                                \n",
    "    land        = '249/243/202',                      \n",
    "    water       = '190/220/250',                      \n",
    "    map_scale   = '142.5/32/32/400',                  \n",
    "    frame       = ['WSen+t\"Figure\"', 'xafg', 'yafg']  \n",
    ")\n"
   ]
  },
  {
   "attachments": {},
   "cell_type": "markdown",
   "metadata": {},
   "source": [
    "## savefig メソッド"
   ]
  },
  {
   "attachments": {},
   "cell_type": "markdown",
   "metadata": {},
   "source": [
    "[PyGMTの基本](./basic_map.ipynb) で紹介したように，もっとも簡単に画像を保存するには，以下のように `savefig` メソッドを用います．"
   ]
  },
  {
   "cell_type": "code",
   "execution_count": 3,
   "metadata": {},
   "outputs": [],
   "source": [
    "fig.savefig('fig/map-by-savefig.png')"
   ]
  },
  {
   "attachments": {},
   "cell_type": "markdown",
   "metadata": {},
   "source": [
    "このように出力した画像をそのまま表示したのが以下です．`show`メソッドで表示したものとほぼかわりません．\n",
    "\n",
    "```{image} ./fig/map-by-savefig.png\n",
    "```"
   ]
  },
  {
   "attachments": {},
   "cell_type": "markdown",
   "metadata": {},
   "source": [
    "ファイル種別はファイル名の拡張子で自動的に判断されます．上記の`png`のほか，画像としては`pdf`, `jpg`, `bmp`, `tif`, `eps`が使えます．たとえば以下のようにするとPDFで保存できます．"
   ]
  },
  {
   "cell_type": "code",
   "execution_count": 4,
   "metadata": {},
   "outputs": [],
   "source": [
    "fig.savefig('fig/map-by-savefig.pdf')"
   ]
  },
  {
   "attachments": {},
   "cell_type": "markdown",
   "metadata": {},
   "source": [
    "`savefig`メソッドは，デフォルトでは画像の描画範囲ギリギリまで余白を切り落とします．場合によっては，描画された最外部がわずかに切り落とされてしまうこともあるようです．以下のように`crop`オプションをつけることで，この問題を回避できます．\n",
    "ここではその効果をはっきり確認するため，あえて大きめの余白をとってみましょう．"
   ]
  },
  {
   "cell_type": "code",
   "execution_count": 25,
   "metadata": {},
   "outputs": [],
   "source": [
    "fig.savefig('fig/map-by-savefig-crop.png', crop='5c')"
   ]
  },
  {
   "attachments": {},
   "cell_type": "markdown",
   "metadata": {},
   "source": [
    "```{image} ./fig/map-by-savefig-crop.png\n",
    "```\n",
    "\n",
    "たしかに周りに余白が作られていることがわかります．\n",
    "\n",
    "```{danger}\n",
    "`savefig`メソッドの[マニュアル](https://www.pygmt.org/v0.9.0/api/generated/pygmt.Figure.savefig.html)には，`crop`オプションは`Bool`（`True` or `False`）をとる，と書いてあります．\n",
    "ところが，`crop=False`を指定してみたところ，筆者の環境では処理が終わらなくなってしまいました．上記の例のように，マニュアルに記載がないものの，文字列として余白の大きさをcm単位で指定することで正常に処理されました．\n",
    "```"
   ]
  },
  {
   "attachments": {},
   "cell_type": "markdown",
   "metadata": {},
   "source": [
    "また，出力がpng, jpg, tif形式のときは，デフォルトで `anti_alias=True` が仮定されており，画像化するときにアンチエイリアス処理がおこなわれます．アンチエイリアス処理の有無で劇的な変化はないようですが，文字のエッジ部分はやや綺麗になるようです．\n",
    "\n",
    "そのほか，`dpi`オプションに数値を渡すと，画像の解像度を指定できます．デフォルト値はかなり高めです．"
   ]
  },
  {
   "attachments": {},
   "cell_type": "markdown",
   "metadata": {},
   "source": [
    "### KML出力"
   ]
  },
  {
   "attachments": {},
   "cell_type": "markdown",
   "metadata": {},
   "source": [
    "面白いところではGoogle Earthなどで表示可能な `kml` フォーマットが選べます．ただし，\n",
    "\n",
    "- 投影法（`projection`）は`X`で，かつ大きさは角度単位（`d`）で指定すべき\n",
    "- `savefig` の出力ファイル名にディレクトリを含むとうまくいかない\n",
    "- `frame` を描画すると位置がズレる\n",
    "\n",
    "という制限があるようです．そこで，上記のスクリプトをKML用に変更してみると，以下のようになります．"
   ]
  },
  {
   "cell_type": "code",
   "execution_count": 17,
   "metadata": {},
   "outputs": [],
   "source": [
    "fig_kml = pygmt.Figure()\n",
    "\n",
    "fig_kml.coast(\n",
    "    projection  = 'X18d/16d',         \n",
    "    region      = (128, 146, 30, 46), \n",
    "    shorelines  = 'default,black',    \n",
    "    area_thresh = 100,                \n",
    "    resolution  = 'f',                \n",
    "    land        = '249/243/202',      \n",
    "    water       = '190/220/250',      \n",
    "    map_scale   = '142.5/32/32/400'   \n",
    ")\n",
    "\n",
    "fig_kml.savefig('map.kml')"
   ]
  },
  {
   "attachments": {},
   "cell_type": "markdown",
   "metadata": {},
   "source": [
    "こうしてできたKMLファイルをGoogle Earthで表示したものが以下のスクリーンショットです．ただし，Google Earthの地形が背景に透けて見えるよう，同アプリ上で透過処理を行いました．\n",
    "\n",
    "```{image} ./fig/GE.png\n",
    "```"
   ]
  },
  {
   "attachments": {},
   "cell_type": "markdown",
   "metadata": {},
   "source": [
    "たしかに，PyGMTで作成した海岸線とGoogle Earthの海岸線がよく一致していることが確かめられます．\n",
    "\n",
    "`coast`で地図を描いただけのものをGoogle Earthで表示してもあまり意味はありませんが，地図上のデータプロットがインタラクティブに操作できる地図アプリ上に表示できるのは有用かもしれません．"
   ]
  },
  {
   "attachments": {},
   "cell_type": "markdown",
   "metadata": {},
   "source": [
    "## psconvertメソッド"
   ]
  },
  {
   "attachments": {},
   "cell_type": "markdown",
   "metadata": {},
   "source": [
    "`savefig`よりももう少し細かい制御ができるのが `psconvert` メソッドです．これまで `savefig`で指定してきたオプションとほぼ互換"
   ]
  },
  {
   "cell_type": "code",
   "execution_count": 40,
   "metadata": {},
   "outputs": [],
   "source": [
    "fig.psconvert(crop='0.5c',                   # 切り落とし\n",
    "              dpi=300,                       # 解像度（PDFは不要）\n",
    "              fmt='g',                       # g: png, f: pdf\n",
    "              prefix='fig/map-by-psconvert', # 拡張子の手前までの名前\n",
    "              anti_aliasing=['g4', 't4']     # これが一番強いアンチエイリアス\n",
    ")"
   ]
  }
 ],
 "metadata": {
  "kernelspec": {
   "display_name": "mypy",
   "language": "python",
   "name": "python3"
  },
  "language_info": {
   "codemirror_mode": {
    "name": "ipython",
    "version": 3
   },
   "file_extension": ".py",
   "mimetype": "text/x-python",
   "name": "python",
   "nbconvert_exporter": "python",
   "pygments_lexer": "ipython3",
   "version": "3.10.5"
  },
  "orig_nbformat": 4
 },
 "nbformat": 4,
 "nbformat_minor": 2
}
